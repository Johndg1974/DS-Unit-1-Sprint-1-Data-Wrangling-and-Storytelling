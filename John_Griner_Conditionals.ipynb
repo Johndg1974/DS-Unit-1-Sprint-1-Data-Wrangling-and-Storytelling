{
  "nbformat": 4,
  "nbformat_minor": 0,
  "metadata": {
    "colab": {
      "name": "John_Griner - Conditionals.ipynb",
      "provenance": [],
      "collapsed_sections": [],
      "include_colab_link": true
    },
    "kernelspec": {
      "name": "python3",
      "display_name": "Python 3"
    }
  },
  "cells": [
    {
      "cell_type": "markdown",
      "metadata": {
        "id": "view-in-github",
        "colab_type": "text"
      },
      "source": [
        "<a href=\"https://colab.research.google.com/github/Johndg1974/DS-Unit-1-Sprint-1-Data-Wrangling-and-Storytelling/blob/master/John_Griner_Conditionals.ipynb\" target=\"_parent\"><img src=\"https://colab.research.google.com/assets/colab-badge.svg\" alt=\"Open In Colab\"/></a>"
      ]
    },
    {
      "cell_type": "markdown",
      "metadata": {
        "id": "Q01dn0uZyS9Y",
        "colab_type": "text"
      },
      "source": [
        "> *Respect the building blocks, master the fundamentals, and the potential is unlimited* -PJ Ladd\n",
        "\n",
        "Pre-lecture warm-ups are all about setting you up for success - sometimes that means code challenges, sometimes it means discussing interview questions. Today it means working on fundamentals. \n",
        "\n",
        "Read through the lecture notebook with a focus on understanding. At the end of the sections are code challenges for you to practice and reinforce what you read about. After lecture ends, a team lead will post a solution notebook (with explanations) for those exercises. \n",
        "\n",
        "Should you finish early, there is additional content at the bottom to explore. If you don't complete the notebook within the hour, don't sweat it, this notebook is meant for you to build up your knowledge and skills - you can always continue working on it after lecture or when you complete the assignment."
      ]
    },
    {
      "cell_type": "markdown",
      "metadata": {
        "id": "-32__JKDWy9U",
        "colab_type": "text"
      },
      "source": [
        "# Conditionals"
      ]
    },
    {
      "cell_type": "markdown",
      "metadata": {
        "id": "HrfEDw8qo14p",
        "colab_type": "text"
      },
      "source": [
        "In programming, we commonly want to take actions based on whether or not a condition is met. The main approach to do this is with an `if..then..else` statement. Before we get to that though, we need to cover the different types of conditional statements we can make.\n",
        "\n",
        "<img src='https://images-cdn.9gag.com/photo/aOYA1mE_460s.jpg' >"
      ]
    },
    {
      "cell_type": "markdown",
      "metadata": {
        "id": "q9PdXs9KW1ym",
        "colab_type": "text"
      },
      "source": [
        "## Floor Division and Modulo"
      ]
    },
    {
      "cell_type": "markdown",
      "metadata": {
        "id": "AhHuXICGneBe",
        "colab_type": "text"
      },
      "source": [
        "You might remember from grade school doing long division; dividing one number into another to get a quotient and a remainder.\n",
        "\n",
        "<img src=https://blog.tecladocode.com/content/images/2019/03/10div3-names.png width=300>\n",
        "\n",
        "Floor Division (`//`) in the image above would be dividing 10 by 3 and getting just the quotient of 3 (divide two numbers and round down). Modulo (`%`) would return the remainder instead."
      ]
    },
    {
      "cell_type": "code",
      "metadata": {
        "id": "1twHOgw8jTnB",
        "colab_type": "code",
        "outputId": "59327b24-b0f9-4f74-cd06-45fc3b19f801",
        "colab": {
          "base_uri": "https://localhost:8080/",
          "height": 35
        }
      },
      "source": [
        "10//3"
      ],
      "execution_count": 0,
      "outputs": [
        {
          "output_type": "execute_result",
          "data": {
            "text/plain": [
              "3"
            ]
          },
          "metadata": {
            "tags": []
          },
          "execution_count": 4
        }
      ]
    },
    {
      "cell_type": "code",
      "metadata": {
        "id": "ZmzL4AXOvYGu",
        "colab_type": "code",
        "outputId": "75eb213e-9c3f-4523-8c78-02429c19d2bb",
        "colab": {
          "base_uri": "https://localhost:8080/",
          "height": 35
        }
      },
      "source": [
        "10%3"
      ],
      "execution_count": 0,
      "outputs": [
        {
          "output_type": "execute_result",
          "data": {
            "text/plain": [
              "1"
            ]
          },
          "metadata": {
            "tags": []
          },
          "execution_count": 5
        }
      ]
    },
    {
      "cell_type": "markdown",
      "metadata": {
        "id": "DR4WP5ryNPbO",
        "colab_type": "text"
      },
      "source": [
        "There are many uses for Floor Division and Modulo, but the most common one is testing whether a number is even or odd by using `x % 2` and seeing if there is a remainder or not."
      ]
    },
    {
      "cell_type": "code",
      "metadata": {
        "id": "QDKkWq85Nlrz",
        "colab_type": "code",
        "outputId": "22740028-c55e-4514-85a0-ef4f330c6ae0",
        "colab": {
          "base_uri": "https://localhost:8080/",
          "height": 35
        }
      },
      "source": [
        "5 % 2"
      ],
      "execution_count": 0,
      "outputs": [
        {
          "output_type": "execute_result",
          "data": {
            "text/plain": [
              "1"
            ]
          },
          "metadata": {
            "tags": []
          },
          "execution_count": 1
        }
      ]
    },
    {
      "cell_type": "code",
      "metadata": {
        "id": "J3lydHcLNtkZ",
        "colab_type": "code",
        "outputId": "f9ed0aea-b723-4944-e144-6af0331970d5",
        "colab": {
          "base_uri": "https://localhost:8080/",
          "height": 35
        }
      },
      "source": [
        "6 % 2"
      ],
      "execution_count": 0,
      "outputs": [
        {
          "output_type": "execute_result",
          "data": {
            "text/plain": [
              "0"
            ]
          },
          "metadata": {
            "tags": []
          },
          "execution_count": 2
        }
      ]
    },
    {
      "cell_type": "markdown",
      "metadata": {
        "id": "7KpNsytjXI5L",
        "colab_type": "text"
      },
      "source": [
        "## Boolean Expressions and Relational Operators"
      ]
    },
    {
      "cell_type": "markdown",
      "metadata": {
        "id": "GqY5aHZ0OFjt",
        "colab_type": "text"
      },
      "source": [
        "A boolean value is a variable having only 2 possible states - `True` or `False`, `Yes` or `No`, `1` or `0`, etc. A boolean expression is a statement that evaluates down to either `True` or `False`. These statements can be created with the help of relational operators.\n",
        "\n",
        "```python\n",
        "x == y # True if x is equal to y. Note: double `=` is a comparison, single `=` is assignment\n",
        "x != y # True if x does not equal y\n",
        "x > y  # True if x is greater than y\n",
        "x < y  # True if x is less than y\n",
        "x >= y # True if x is greater than or equal to y\n",
        "x <= y # True if x is less than or equal to y\n",
        "```"
      ]
    },
    {
      "cell_type": "code",
      "metadata": {
        "id": "9Pk7hfU1ooE5",
        "colab_type": "code",
        "outputId": "d99d4792-44b4-4915-8d62-0b0758c55ee2",
        "colab": {
          "base_uri": "https://localhost:8080/",
          "height": 35
        }
      },
      "source": [
        "5 == 6"
      ],
      "execution_count": 0,
      "outputs": [
        {
          "output_type": "execute_result",
          "data": {
            "text/plain": [
              "False"
            ]
          },
          "metadata": {
            "tags": []
          },
          "execution_count": 14
        }
      ]
    },
    {
      "cell_type": "code",
      "metadata": {
        "id": "RNcknD-IQQ5w",
        "colab_type": "code",
        "outputId": "640293f4-c603-41eb-9b0b-86f4ba9d3d5a",
        "colab": {
          "base_uri": "https://localhost:8080/",
          "height": 35
        }
      },
      "source": [
        "5 < 6"
      ],
      "execution_count": 0,
      "outputs": [
        {
          "output_type": "execute_result",
          "data": {
            "text/plain": [
              "True"
            ]
          },
          "metadata": {
            "tags": []
          },
          "execution_count": 5
        }
      ]
    },
    {
      "cell_type": "markdown",
      "metadata": {
        "id": "o2kTYXH3HeaS",
        "colab_type": "text"
      },
      "source": [
        "We can chain relational operators together for easy to read expressions."
      ]
    },
    {
      "cell_type": "code",
      "metadata": {
        "id": "1LLjBTU8iy6W",
        "colab_type": "code",
        "outputId": "ab12957e-3613-4eee-a3b5-6a062e04631d",
        "colab": {
          "base_uri": "https://localhost:8080/",
          "height": 35
        }
      },
      "source": [
        "x = 5\n",
        "0 < x < 10"
      ],
      "execution_count": 0,
      "outputs": [
        {
          "output_type": "execute_result",
          "data": {
            "text/plain": [
              "True"
            ]
          },
          "metadata": {
            "tags": []
          },
          "execution_count": 32
        }
      ]
    },
    {
      "cell_type": "markdown",
      "metadata": {
        "id": "h7lzzIwgHkBB",
        "colab_type": "text"
      },
      "source": [
        "Or use modulo paired with a relational operator to test whether a number is even or not"
      ]
    },
    {
      "cell_type": "code",
      "metadata": {
        "id": "Wv1q3aWGQVDZ",
        "colab_type": "code",
        "outputId": "0df8cbc7-a8ed-4acd-b2bc-0d89060e53b1",
        "colab": {
          "base_uri": "https://localhost:8080/",
          "height": 35
        }
      },
      "source": [
        "(5 % 2) == 0"
      ],
      "execution_count": 0,
      "outputs": [
        {
          "output_type": "execute_result",
          "data": {
            "text/plain": [
              "False"
            ]
          },
          "metadata": {
            "tags": []
          },
          "execution_count": 15
        }
      ]
    },
    {
      "cell_type": "markdown",
      "metadata": {
        "id": "0WL2ZnO8lrHX",
        "colab_type": "text"
      },
      "source": [
        "We can even assign boolean expressions to variables as well. This sometimes helps with readability or saving space on a line."
      ]
    },
    {
      "cell_type": "code",
      "metadata": {
        "id": "xs4Q2bWFl6uD",
        "colab_type": "code",
        "outputId": "e8ffcd6a-aa80-413c-85af-02755353941c",
        "colab": {
          "base_uri": "https://localhost:8080/",
          "height": 35
        }
      },
      "source": [
        "x = 4\n",
        "x_is_even = (x % 2 == 0)\n",
        "x_is_even"
      ],
      "execution_count": 0,
      "outputs": [
        {
          "output_type": "execute_result",
          "data": {
            "text/plain": [
              "True"
            ]
          },
          "metadata": {
            "tags": []
          },
          "execution_count": 39
        }
      ]
    },
    {
      "cell_type": "markdown",
      "metadata": {
        "id": "O-YiU0K5XNIR",
        "colab_type": "text"
      },
      "source": [
        "## Logical Operators"
      ]
    },
    {
      "cell_type": "markdown",
      "metadata": {
        "id": "1l8pX86fTXWs",
        "colab_type": "text"
      },
      "source": [
        "Boolean expressions can be chained together with the use of Logical Operators: `and`, `or`, and `not`. These behave in a very intuitive way thanks to their similarity to how they are used in English."
      ]
    },
    {
      "cell_type": "code",
      "metadata": {
        "id": "qc890LsGRFCx",
        "colab_type": "code",
        "colab": {}
      },
      "source": [
        "x = 5\n",
        "y = 10"
      ],
      "execution_count": 0,
      "outputs": []
    },
    {
      "cell_type": "markdown",
      "metadata": {
        "id": "PK7VwfR-INMR",
        "colab_type": "text"
      },
      "source": [
        "The `and` operator evaluates True only if both expressions are True"
      ]
    },
    {
      "cell_type": "code",
      "metadata": {
        "id": "hRTQzI0DUPGk",
        "colab_type": "code",
        "outputId": "72de8d3f-9553-4622-a405-2c1daf44aacc",
        "colab": {
          "base_uri": "https://localhost:8080/",
          "height": 35
        }
      },
      "source": [
        "(x > 0) and (x < y)"
      ],
      "execution_count": 0,
      "outputs": [
        {
          "output_type": "execute_result",
          "data": {
            "text/plain": [
              "True"
            ]
          },
          "metadata": {
            "tags": []
          },
          "execution_count": 17
        }
      ]
    },
    {
      "cell_type": "markdown",
      "metadata": {
        "id": "KUXQoKY9IP0Z",
        "colab_type": "text"
      },
      "source": [
        "The `or` operator only needs one expression to be True"
      ]
    },
    {
      "cell_type": "code",
      "metadata": {
        "id": "xeAleUOyUJMY",
        "colab_type": "code",
        "outputId": "a8674a5f-def3-4b70-df02-3c6ae6ee2cdb",
        "colab": {
          "base_uri": "https://localhost:8080/",
          "height": 35
        }
      },
      "source": [
        "(x > y) or (y == 10)"
      ],
      "execution_count": 0,
      "outputs": [
        {
          "output_type": "execute_result",
          "data": {
            "text/plain": [
              "True"
            ]
          },
          "metadata": {
            "tags": []
          },
          "execution_count": 18
        }
      ]
    },
    {
      "cell_type": "markdown",
      "metadata": {
        "id": "EVbgZGFAIS0H",
        "colab_type": "text"
      },
      "source": [
        "Finally, the `not` operator negates an expression"
      ]
    },
    {
      "cell_type": "code",
      "metadata": {
        "id": "X3PUzAVmUJVf",
        "colab_type": "code",
        "outputId": "50b4d458-8367-4ef1-cff1-b69812f92537",
        "colab": {
          "base_uri": "https://localhost:8080/",
          "height": 35
        }
      },
      "source": [
        "not((x > 0) and (x < y))"
      ],
      "execution_count": 0,
      "outputs": [
        {
          "output_type": "execute_result",
          "data": {
            "text/plain": [
              "False"
            ]
          },
          "metadata": {
            "tags": []
          },
          "execution_count": 19
        }
      ]
    },
    {
      "cell_type": "markdown",
      "metadata": {
        "id": "DkfqkDb1Vsbf",
        "colab_type": "text"
      },
      "source": [
        "The statements on either side of a logical operator should be boolean expressions but Python is pretty loose with it and assumes you will program responsibly."
      ]
    },
    {
      "cell_type": "code",
      "metadata": {
        "id": "GrInW2ykWMP8",
        "colab_type": "code",
        "outputId": "8b4f3d9c-cbd4-4ef3-c147-c4d2f69a0394",
        "colab": {
          "base_uri": "https://localhost:8080/",
          "height": 35
        }
      },
      "source": [
        "# Python interprets any non-zero number as True. \n",
        "# If you aren't careful, this can lead to hard to detect errors in the logic of your code.\n",
        "5 and True"
      ],
      "execution_count": 0,
      "outputs": [
        {
          "output_type": "execute_result",
          "data": {
            "text/plain": [
              "True"
            ]
          },
          "metadata": {
            "tags": []
          },
          "execution_count": 20
        }
      ]
    },
    {
      "cell_type": "markdown",
      "metadata": {
        "id": "tDgm88uwXcA3",
        "colab_type": "text"
      },
      "source": [
        "## if..elif..else.."
      ]
    },
    {
      "cell_type": "markdown",
      "metadata": {
        "id": "WkMARy-PmxGZ",
        "colab_type": "text"
      },
      "source": [
        "### Basics"
      ]
    },
    {
      "cell_type": "markdown",
      "metadata": {
        "id": "N3njuUsgXAzw",
        "colab_type": "text"
      },
      "source": [
        "Now that the basics are out of the way, we can talk about the heart of conditional statements, the `if..then..else` statement.\n",
        "\n",
        "![image.png](data:image/png;base64,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)"
      ]
    },
    {
      "cell_type": "markdown",
      "metadata": {
        "id": "VsUMO2XacnNH",
        "colab_type": "text"
      },
      "source": [
        "The most basic form is the `if` statement - \"If something is True, then do this other thing\""
      ]
    },
    {
      "cell_type": "code",
      "metadata": {
        "id": "YCNqS8lhRaeP",
        "colab_type": "code",
        "colab": {}
      },
      "source": [
        "if 5 > 6:\n",
        "  print('Math is broken!!!!')"
      ],
      "execution_count": 0,
      "outputs": []
    },
    {
      "cell_type": "code",
      "metadata": {
        "id": "eg9fdrnyX3MK",
        "colab_type": "code",
        "outputId": "511879fd-f450-4d0e-8b87-4480cc2f78b4",
        "colab": {
          "base_uri": "https://localhost:8080/",
          "height": 35
        }
      },
      "source": [
        "if 6 % 2 == 0:\n",
        "  print('Found an even number.')"
      ],
      "execution_count": 0,
      "outputs": [
        {
          "output_type": "stream",
          "text": [
            "Found an even number.\n"
          ],
          "name": "stdout"
        }
      ]
    },
    {
      "cell_type": "markdown",
      "metadata": {
        "id": "kBNsvGkReZRV",
        "colab_type": "text"
      },
      "source": [
        "Some times you want something to occur even if the `if` statement evaluates False - enter the `else` statement. The code under an `else` executes only if the statements above it failed to execute by evaluating to false."
      ]
    },
    {
      "cell_type": "code",
      "metadata": {
        "id": "khbTC2Cie_lg",
        "colab_type": "code",
        "outputId": "3da9caea-f72b-46fa-acfb-1f5c2ccb1cdc",
        "colab": {
          "base_uri": "https://localhost:8080/",
          "height": 35
        }
      },
      "source": [
        "x = 5\n",
        "if x % 2 == 0:\n",
        "  print('x is even')\n",
        "else:\n",
        "  print('x is odd')"
      ],
      "execution_count": 0,
      "outputs": [
        {
          "output_type": "stream",
          "text": [
            "x is odd\n"
          ],
          "name": "stdout"
        }
      ]
    },
    {
      "cell_type": "markdown",
      "metadata": {
        "id": "3NXCI6a1dSdP",
        "colab_type": "text"
      },
      "source": [
        "Any number of `if` statements can follow after each other and will be evaluated independent of the previous ones."
      ]
    },
    {
      "cell_type": "code",
      "metadata": {
        "id": "hcfb64iWdOz1",
        "colab_type": "code",
        "outputId": "f355f4dc-a642-4243-9866-c0c2cf9b59fd",
        "colab": {
          "base_uri": "https://localhost:8080/",
          "height": 72
        }
      },
      "source": [
        "x = 6\n",
        "if x % 2 == 0:\n",
        "  print('x is even')\n",
        "if (x >= 0) and (x < 10):\n",
        "  print('x is a single digit number')\n",
        "if True:\n",
        "  print('This will always print')"
      ],
      "execution_count": 0,
      "outputs": [
        {
          "output_type": "stream",
          "text": [
            "x is even\n",
            "x is a single digit number\n",
            "This will always print\n"
          ],
          "name": "stdout"
        }
      ]
    },
    {
      "cell_type": "markdown",
      "metadata": {
        "id": "1z3HfGZbeE5D",
        "colab_type": "text"
      },
      "source": [
        "There are times when you want all conditionals to be evaluated separately like above, but often times you want them to be evaluated only if the statements above it fail. This is where the `elif` (\"else if\") comes in handy."
      ]
    },
    {
      "cell_type": "code",
      "metadata": {
        "id": "lKOGTdZTeBZd",
        "colab_type": "code",
        "outputId": "1d81308e-c2cc-45a6-b40f-e2260c62f7a3",
        "colab": {
          "base_uri": "https://localhost:8080/",
          "height": 35
        }
      },
      "source": [
        "x = 5\n",
        "\n",
        "if x == 0:\n",
        "  print('x is 0')\n",
        "elif x > 0: # If x is 0, then the elif and the else will never be evaluated by Python\n",
        "  print('x is positive')\n",
        "else: # If x is greater than or equal to 0, the else will never be evaluated by Python\n",
        "  print('x is negative')"
      ],
      "execution_count": 0,
      "outputs": [
        {
          "output_type": "stream",
          "text": [
            "x is positive\n"
          ],
          "name": "stdout"
        }
      ]
    },
    {
      "cell_type": "code",
      "metadata": {
        "id": "M26ilFtkgp32",
        "colab_type": "code",
        "outputId": "eb6f194e-924b-4f80-e89a-eb9f23a877d2",
        "colab": {
          "base_uri": "https://localhost:8080/",
          "height": 35
        }
      },
      "source": [
        "birthyear = 1987\n",
        "\n",
        "if birthyear <= 1945:\n",
        "  print('Silent Generation')\n",
        "elif birthyear <= 1964: # Notice how we don't need to bound the birthyear on both sides (1946 < birthyear <= 1964) \n",
        "  print('Baby Boomer')  # because it only executes if it is greater than 1945 thanks to the statement above it and elif.\n",
        "elif birthyear <= 1980:\n",
        "  print('Generation X')\n",
        "elif birthyear <= 1996:\n",
        "  print('Millenial')\n",
        "else:\n",
        "  print('Everyone else')"
      ],
      "execution_count": 0,
      "outputs": [
        {
          "output_type": "stream",
          "text": [
            "Millenial\n"
          ],
          "name": "stdout"
        }
      ]
    },
    {
      "cell_type": "markdown",
      "metadata": {
        "id": "P_V2UOW8jvkM",
        "colab_type": "text"
      },
      "source": [
        "Finally, we can nest conditional statements inside of each other if we need to."
      ]
    },
    {
      "cell_type": "code",
      "metadata": {
        "id": "X1ms00rniDWd",
        "colab_type": "code",
        "outputId": "a5429042-c724-42c4-8043-c5f4c3318122",
        "colab": {
          "base_uri": "https://localhost:8080/",
          "height": 35
        }
      },
      "source": [
        "x = 5\n",
        "x_is_even = (x % 2 == 0)\n",
        "\n",
        "if x != 0:\n",
        "  if x_is_even:\n",
        "    print('x is even')\n",
        "    if (x > 0):\n",
        "      print('x is a positive number')\n",
        "  else:\n",
        "    print('x is odd')\n",
        "else:\n",
        "  print('x is 0')"
      ],
      "execution_count": 0,
      "outputs": [
        {
          "output_type": "stream",
          "text": [
            "x is odd\n"
          ],
          "name": "stdout"
        }
      ]
    },
    {
      "cell_type": "markdown",
      "metadata": {
        "id": "VzzXV1_4m0Vk",
        "colab_type": "text"
      },
      "source": [
        "### More If's"
      ]
    },
    {
      "cell_type": "markdown",
      "metadata": {
        "id": "Ha0JGdxinKjL",
        "colab_type": "text"
      },
      "source": [
        "Sometimes you want to plan out your code and know you'll need an if statement, but don't know the particulars of what is going into the indented section. Enter `pass`. Python requires something to be executed after an if statement, we can use `pass` as a placeholder so our code still runs while we are building it out."
      ]
    },
    {
      "cell_type": "code",
      "metadata": {
        "id": "_mcfpA0EnI3m",
        "colab_type": "code",
        "colab": {}
      },
      "source": [
        "if x != 0:\n",
        "  # Comment to note what you might want to go here\n",
        "  pass"
      ],
      "execution_count": 0,
      "outputs": []
    },
    {
      "cell_type": "markdown",
      "metadata": {
        "id": "Kwox394SoThQ",
        "colab_type": "text"
      },
      "source": [
        "Iterable data structures, like lists and strings, have an operator to check whether a value is within the data structure - `in`. No need to write a loop to check the contents of an iterable, the work is done for you. The `in` operator is almost as intuitive as the logical operators, getting used in a similar fashion to how it is used in English."
      ]
    },
    {
      "cell_type": "code",
      "metadata": {
        "id": "vHIQfc0MoV1R",
        "colab_type": "code",
        "outputId": "b33d0d47-c582-45f6-953b-d8ca86f0a06c",
        "colab": {
          "base_uri": "https://localhost:8080/",
          "height": 35
        }
      },
      "source": [
        "5 in [1, 2, 3]"
      ],
      "execution_count": 0,
      "outputs": [
        {
          "output_type": "execute_result",
          "data": {
            "text/plain": [
              "False"
            ]
          },
          "metadata": {
            "tags": []
          },
          "execution_count": 5
        }
      ]
    },
    {
      "cell_type": "code",
      "metadata": {
        "id": "GFfBOkxjpkVO",
        "colab_type": "code",
        "outputId": "3490297e-fada-482a-edfa-929ddcd64046",
        "colab": {
          "base_uri": "https://localhost:8080/",
          "height": 35
        }
      },
      "source": [
        "3 in [1, 2, 3]"
      ],
      "execution_count": 0,
      "outputs": [
        {
          "output_type": "execute_result",
          "data": {
            "text/plain": [
              "True"
            ]
          },
          "metadata": {
            "tags": []
          },
          "execution_count": 6
        }
      ]
    },
    {
      "cell_type": "code",
      "metadata": {
        "id": "xw7pcjIOpo1j",
        "colab_type": "code",
        "outputId": "08ecebc9-507e-4507-ef50-c5d9d10c2792",
        "colab": {
          "base_uri": "https://localhost:8080/",
          "height": 35
        }
      },
      "source": [
        "'Waldo' in 'walwaloWaWawalodWaldoWaldwa'"
      ],
      "execution_count": 0,
      "outputs": [
        {
          "output_type": "execute_result",
          "data": {
            "text/plain": [
              "True"
            ]
          },
          "metadata": {
            "tags": []
          },
          "execution_count": 7
        }
      ]
    },
    {
      "cell_type": "markdown",
      "metadata": {
        "id": "uyym-NXqqXL6",
        "colab_type": "text"
      },
      "source": [
        "Last but not least, we have the `is` operator that checks whether two operands refer to the same object. On first glance the `is` operator looks and reads like it does the same job as `==` but you would be mistaken. We aren't going to go into the use cases for `is` but it is important you know of its existent so you don't use it incorrectly."
      ]
    },
    {
      "cell_type": "code",
      "metadata": {
        "id": "TQl19hb2rSAo",
        "colab_type": "code",
        "outputId": "75b8efb8-580b-4e48-fb3e-23639c6115ec",
        "colab": {
          "base_uri": "https://localhost:8080/",
          "height": 53
        }
      },
      "source": [
        "# `==` checks for equality, are the two values equal\n",
        "print(5 == 5)\n",
        "print([] == [])"
      ],
      "execution_count": 0,
      "outputs": [
        {
          "output_type": "stream",
          "text": [
            "True\n",
            "True\n"
          ],
          "name": "stdout"
        }
      ]
    },
    {
      "cell_type": "code",
      "metadata": {
        "id": "uN68Z2kMrit2",
        "colab_type": "code",
        "outputId": "f3daa64b-d29c-4654-8106-08f18e4d77df",
        "colab": {
          "base_uri": "https://localhost:8080/",
          "height": 53
        }
      },
      "source": [
        "# `is` checks whether the two items point to the same object in memory\n",
        "print(5 is 5) # With basic data types this is pretty much the same thing as `==`\n",
        "print([] is []) # With even basic data structures we see a different behavior"
      ],
      "execution_count": 0,
      "outputs": [
        {
          "output_type": "stream",
          "text": [
            "True\n",
            "False\n"
          ],
          "name": "stdout"
        }
      ]
    },
    {
      "cell_type": "code",
      "metadata": {
        "id": "WQSk3JxNsjz7",
        "colab_type": "code",
        "outputId": "79f15c30-d8ff-4630-d407-2e1f26832610",
        "colab": {
          "base_uri": "https://localhost:8080/",
          "height": 108
        }
      },
      "source": [
        "# We can even check this with the `id` function, which gives the unique identifier of an item\n",
        "print(id(5)) # Samesies!\n",
        "print(id(5)) # Samesies!\n",
        "print()\n",
        "print(id([])) # Good Twin\n",
        "print(id([])) # Evil Twin!"
      ],
      "execution_count": 0,
      "outputs": [
        {
          "output_type": "stream",
          "text": [
            "10914624\n",
            "10914624\n",
            "\n",
            "140180295151048\n",
            "140180303548552\n"
          ],
          "name": "stdout"
        }
      ]
    },
    {
      "cell_type": "markdown",
      "metadata": {
        "id": "ZuMaBaSCoSow",
        "colab_type": "text"
      },
      "source": [
        "## If Statement Practice"
      ]
    },
    {
      "cell_type": "markdown",
      "metadata": {
        "id": "-nJWcbY8sMZB",
        "colab_type": "text"
      },
      "source": [
        "### Time\n",
        "\n",
        "Given a time in seconds, convert the value to hours, minutes, and seconds.\n",
        "\n",
        "Example:\n",
        "```python\n",
        "seconds = 18195\n",
        "\n",
        "'Hours = 5'\n",
        "'Minutes = 3'\n",
        "'Seconds = 15'\n",
        "```"
      ]
    },
    {
      "cell_type": "code",
      "metadata": {
        "id": "VXKDTFi4sbhq",
        "colab_type": "code",
        "colab": {}
      },
      "source": [
        "seconds = 12927"
      ],
      "execution_count": 0,
      "outputs": []
    },
    {
      "cell_type": "code",
      "metadata": {
        "id": "_0OOULTzupcs",
        "colab_type": "code",
        "colab": {}
      },
      "source": [
        ""
      ],
      "execution_count": 0,
      "outputs": []
    },
    {
      "cell_type": "markdown",
      "metadata": {
        "id": "1my4xT8nocLu",
        "colab_type": "text"
      },
      "source": [
        "### Triangles\n",
        "Given 3 lines, a [triangle can be formed](https://en.wikipedia.org/wiki/Triangle_inequality) if none of the lines is longer than the sum of the other two lines. If the sum of the two shorter lengths equals the third than it is considered a [degenerate triangle](https://www.mathwords.com/d/degenerate.htm). Write an if statement that prints \"Triangle\", \"Degenerate Triangle\", or \"Not a Triangle\" given three lines `a`, `b`, and `c`. Three values are provided but feel free to test your code by changing the values of `a`, `b`, and `c`."
      ]
    },
    {
      "cell_type": "code",
      "metadata": {
        "id": "Yv7hxQsGk8SB",
        "colab_type": "code",
        "colab": {}
      },
      "source": [
        "a = 5\n",
        "b = 5\n",
        "c = 11"
      ],
      "execution_count": 0,
      "outputs": []
    },
    {
      "cell_type": "code",
      "metadata": {
        "id": "Np-ibKL0pSkv",
        "colab_type": "code",
        "colab": {}
      },
      "source": [
        ""
      ],
      "execution_count": 0,
      "outputs": []
    },
    {
      "cell_type": "markdown",
      "metadata": {
        "id": "D-tdL1YEu3Tj",
        "colab_type": "text"
      },
      "source": [
        "### Evaluate the Expressions\n",
        "Determine whether the statements below are True or False.\n",
        "\n",
        "```python\n",
        "# Statement 1\n",
        "not((5 > 6) and (True != False))\n",
        "\n",
        "# Statement 2\n",
        "x = 5\n",
        "x_is_even = (x % 2 == 0)\n",
        "\n",
        "x_is_even or ((x > 0) and (x < 4))\n",
        "\n",
        "# Statement 3\n",
        "not(not(True))\n",
        "\n",
        "# Statement 4\n",
        "() is not ()\n",
        "\n",
        "# Statement 5\n",
        "'hello' in 'hello world!'\n",
        "```"
      ]
    },
    {
      "cell_type": "code",
      "metadata": {
        "id": "my9Cu8aQwSsR",
        "colab_type": "code",
        "colab": {}
      },
      "source": [
        "# Statement 1\n",
        "\n",
        "# Statement 2\n",
        "\n",
        "# Statement 3\n",
        "\n",
        "# Statement 4\n",
        "\n",
        "# Statement 5\n"
      ],
      "execution_count": 0,
      "outputs": []
    },
    {
      "cell_type": "markdown",
      "metadata": {
        "id": "YWc4xKFKTbf4",
        "colab_type": "text"
      },
      "source": [
        "# Debugging"
      ]
    },
    {
      "cell_type": "markdown",
      "metadata": {
        "id": "tY24u_1fTzNi",
        "colab_type": "text"
      },
      "source": [
        "Programmers make mistakes, it just comes with the territory. No one writes perfect code 100% of the time, and they don't do it whole cloth. Embrace the mistakes, learn how to fix them, and learn from them. Through lecture, warmups, standups, and 1-on-1's you'll learn how to better approach, troubleshoot, and correct your bugs.\n",
        "\n",
        "<center><img src=https://i.redd.it/vyo3y5j4zd231.jpg width=50%></center>\n",
        "\n",
        "Programming,  and  especially  debugging,  sometimes  brings  out  strong  emotions.  If you  are  struggling  with  a  difficult  bug,  you  might  feel  angry,  despondent,  or  embarrassed. These are totally normal feelings - just take a step back, breath, and make a plan of attack. In the beginning you'll have a lot of errors, but just know that the more you work through them the better you get at avoiding them and fixing them in the future.\n",
        "<br/><br/><br/>\n",
        "The first part of fixing an error is understanding it. So, let's talk about the 3 Error Types.\n",
        "\n",
        "1. **Syntax Error** - “Syntax”  refers  to  the  structure  of  a  program  and  the  rules  about  that  structure. For example, parentheses have to come in matching pairs, so `(1 + 2)` is legal, but `8)` is a syntax error. If  there  is  a  syntax  error  anywhere  in  your  program,  Python  displays  an  error message and quits, and you will not be able to run the program.\n",
        "\n",
        "2. **Runtime Error** - An error that does not appear  until  after  the  program  has  started  running.  These  errors  are  also  called exceptions  because  they  usually  indicate  that  something  exceptional (and  bad) has happened. Both Syntax and Runtime Errors generate error messages that are helpful for understanding what went wrong and where.\n",
        "\n",
        "3. **Semantic Error** - “Semantic” means related to meaning. If there is a semantic error in your program, it will run without generating error messages, but it will not do the right thing. It will do something else. Specifically, it will do what you told it to do. Identifying  semantic  errors  can  be  tricky  because  it  requires  you  to  work  backward by looking at the output of the program and trying to figure out what it is doing.\n",
        "<br/><br/><br/>\n",
        "Debugging content above is adapted from *Think Python, 2nd Edition* by Allen B. Downey"
      ]
    },
    {
      "cell_type": "code",
      "metadata": {
        "id": "bOPoA4P9W0Vg",
        "colab_type": "code",
        "outputId": "02b8b1e7-150b-44f2-bc6c-7ad561b528c4",
        "colab": {
          "base_uri": "https://localhost:8080/",
          "height": 135
        }
      },
      "source": [
        "# A Syntax Error. Notice how Python tells you the line number (1) and \n",
        "# that your Syntax is the issue.\n",
        "x 5"
      ],
      "execution_count": 0,
      "outputs": [
        {
          "output_type": "error",
          "ename": "SyntaxError",
          "evalue": "ignored",
          "traceback": [
            "\u001b[0;36m  File \u001b[0;32m\"<ipython-input-21-07f66c913eb5>\"\u001b[0;36m, line \u001b[0;32m1\u001b[0m\n\u001b[0;31m    x 5\u001b[0m\n\u001b[0m      ^\u001b[0m\n\u001b[0;31mSyntaxError\u001b[0m\u001b[0;31m:\u001b[0m invalid syntax\n"
          ]
        }
      ]
    },
    {
      "cell_type": "code",
      "metadata": {
        "id": "pkHKX-dAhf6R",
        "colab_type": "code",
        "outputId": "176d29ee-ba64-4ced-e87c-dafec98a6e7e",
        "colab": {
          "base_uri": "https://localhost:8080/",
          "height": 208
        }
      },
      "source": [
        "# A Runtime Error. Once again Python tells us where the issue is and \n",
        "# what type of error. \"TypeError\" is a runtime error the indicates a \n",
        "# type mismatch, in this case Python doesn't know how to add an integer\n",
        "# and a word together.\n",
        "word = 'hello world'\n",
        "x = word + 5\n",
        "print(x)"
      ],
      "execution_count": 0,
      "outputs": [
        {
          "output_type": "error",
          "ename": "TypeError",
          "evalue": "ignored",
          "traceback": [
            "\u001b[0;31m---------------------------------------------------------------------------\u001b[0m",
            "\u001b[0;31mTypeError\u001b[0m                                 Traceback (most recent call last)",
            "\u001b[0;32m<ipython-input-22-2ee60b5a7594>\u001b[0m in \u001b[0;36m<module>\u001b[0;34m()\u001b[0m\n\u001b[1;32m      1\u001b[0m \u001b[0mword\u001b[0m \u001b[0;34m=\u001b[0m \u001b[0;34m'hello world'\u001b[0m\u001b[0;34m\u001b[0m\u001b[0;34m\u001b[0m\u001b[0m\n\u001b[0;32m----> 2\u001b[0;31m \u001b[0mx\u001b[0m \u001b[0;34m=\u001b[0m \u001b[0mword\u001b[0m \u001b[0;34m+\u001b[0m \u001b[0;36m5\u001b[0m\u001b[0;34m\u001b[0m\u001b[0;34m\u001b[0m\u001b[0m\n\u001b[0m\u001b[1;32m      3\u001b[0m \u001b[0mprint\u001b[0m\u001b[0;34m(\u001b[0m\u001b[0mx\u001b[0m\u001b[0;34m)\u001b[0m\u001b[0;34m\u001b[0m\u001b[0;34m\u001b[0m\u001b[0m\n",
            "\u001b[0;31mTypeError\u001b[0m: must be str, not int"
          ]
        }
      ]
    },
    {
      "cell_type": "code",
      "metadata": {
        "id": "Hccmbi4xiDV9",
        "colab_type": "code",
        "outputId": "ac339893-3bbf-47d5-ceb4-5a51ee092030",
        "colab": {
          "base_uri": "https://localhost:8080/",
          "height": 35
        }
      },
      "source": [
        "# A Semantic Error. I've told the computer to print \"Go!\" on 3 but it doesn't\n",
        "# know that I mean the number 3. The code compiles and runs but will never do\n",
        "# what I wanted it to do.\n",
        "for i in range(5):\n",
        "  if i == 'three':\n",
        "    print('Go!')\n",
        "    break\n",
        "else:\n",
        "  print('Race Cancelled')"
      ],
      "execution_count": 0,
      "outputs": [
        {
          "output_type": "stream",
          "text": [
            "Race Cancelled\n"
          ],
          "name": "stdout"
        }
      ]
    },
    {
      "cell_type": "markdown",
      "metadata": {
        "id": "L-PqydCvkSJ0",
        "colab_type": "text"
      },
      "source": [
        "## Debug Practice"
      ]
    },
    {
      "cell_type": "markdown",
      "metadata": {
        "id": "tw_lG572kunU",
        "colab_type": "text"
      },
      "source": [
        "### Correct each of the errors above"
      ]
    },
    {
      "cell_type": "code",
      "metadata": {
        "id": "lXYrK75vjbD8",
        "colab_type": "code",
        "colab": {}
      },
      "source": [
        ""
      ],
      "execution_count": 0,
      "outputs": []
    },
    {
      "cell_type": "code",
      "metadata": {
        "id": "filUYPLvkwqS",
        "colab_type": "code",
        "colab": {}
      },
      "source": [
        ""
      ],
      "execution_count": 0,
      "outputs": []
    },
    {
      "cell_type": "code",
      "metadata": {
        "id": "fgX3WRGskw0Q",
        "colab_type": "code",
        "colab": {}
      },
      "source": [
        ""
      ],
      "execution_count": 0,
      "outputs": []
    },
    {
      "cell_type": "markdown",
      "metadata": {
        "id": "m0JidmLXkxMx",
        "colab_type": "text"
      },
      "source": [
        "### Write code snippets that produce each of the 3 Error Types"
      ]
    },
    {
      "cell_type": "code",
      "metadata": {
        "id": "PAwcRXiZk1tx",
        "colab_type": "code",
        "colab": {}
      },
      "source": [
        ""
      ],
      "execution_count": 0,
      "outputs": []
    },
    {
      "cell_type": "code",
      "metadata": {
        "id": "37Zv3psvk1wm",
        "colab_type": "code",
        "colab": {}
      },
      "source": [
        ""
      ],
      "execution_count": 0,
      "outputs": []
    },
    {
      "cell_type": "code",
      "metadata": {
        "id": "b0hg_pGBk1rc",
        "colab_type": "code",
        "colab": {}
      },
      "source": [
        ""
      ],
      "execution_count": 0,
      "outputs": []
    },
    {
      "cell_type": "markdown",
      "metadata": {
        "id": "9XwxgQGyxtHh",
        "colab_type": "text"
      },
      "source": [
        "# Further Exploration"
      ]
    },
    {
      "cell_type": "markdown",
      "metadata": {
        "id": "-mldmi7KyHNv",
        "colab_type": "text"
      },
      "source": [
        "## Minimal Code"
      ]
    },
    {
      "cell_type": "markdown",
      "metadata": {
        "id": "NUw_R6HOyd1W",
        "colab_type": "text"
      },
      "source": [
        "If statements can be converted to a single line of code with a slight change to formatting. This can helpful in certain cases but should be used only when it doesn't hamper readability."
      ]
    },
    {
      "cell_type": "code",
      "metadata": {
        "id": "rrHnuDpcyLMV",
        "colab_type": "code",
        "outputId": "8d17362e-5d87-45f3-d4c1-972ddec70b52",
        "colab": {
          "base_uri": "https://localhost:8080/",
          "height": 35
        }
      },
      "source": [
        "x = 4\n",
        "statement = 'x is even' if (x % 2 == 0) else 'x is odd'\n",
        "print(statement)"
      ],
      "execution_count": 0,
      "outputs": [
        {
          "output_type": "stream",
          "text": [
            "x is even\n"
          ],
          "name": "stdout"
        }
      ]
    },
    {
      "cell_type": "code",
      "metadata": {
        "id": "pWE5BWG8zUZm",
        "colab_type": "code",
        "outputId": "adec3b09-ecf0-4fe7-9169-7c2e4dc8053c",
        "colab": {
          "base_uri": "https://localhost:8080/",
          "height": 35
        }
      },
      "source": [
        "a = 1\n",
        "b = 2\n",
        "maximum = (a if (a > b) else b) * 2.45 - 4\n",
        "maximum"
      ],
      "execution_count": 0,
      "outputs": [
        {
          "output_type": "execute_result",
          "data": {
            "text/plain": [
              "0.9000000000000004"
            ]
          },
          "metadata": {
            "tags": []
          },
          "execution_count": 29
        }
      ]
    },
    {
      "cell_type": "code",
      "metadata": {
        "id": "vW66h0Ap9h9G",
        "colab_type": "code",
        "outputId": "52afa93b-ce4a-4dbd-d311-b8289a26e367",
        "colab": {
          "base_uri": "https://localhost:8080/",
          "height": 35
        }
      },
      "source": [
        "# You can make a one line if statement this way as well:\n",
        "if x == 4: print(x)\n",
        "# But shouldn't as it goes against the Python style guide (PEP8)"
      ],
      "execution_count": 0,
      "outputs": [
        {
          "output_type": "stream",
          "text": [
            "4\n"
          ],
          "name": "stdout"
        }
      ]
    },
    {
      "cell_type": "markdown",
      "metadata": {
        "id": "-lpJfCumxv-v",
        "colab_type": "text"
      },
      "source": [
        "## Dictionaries as Case Statements\n"
      ]
    },
    {
      "cell_type": "markdown",
      "metadata": {
        "id": "Y4HZDhcC-rpe",
        "colab_type": "text"
      },
      "source": [
        "Many programming languages have what is called a `case` statement, Python does not thanks to `elif`. Should you want to imitate a case statement you can use a dictionary. The keys in the dictionary would be what you are checking equivalency (`==`) of, and the value will be the code to execute. Dictionaries can't store code directly, so you either need to store a value or reference a function."
      ]
    },
    {
      "cell_type": "code",
      "metadata": {
        "id": "sA0V7cajyy48",
        "colab_type": "code",
        "outputId": "93caca85-25ca-4eb8-ffdc-a483df9ba35c",
        "colab": {
          "base_uri": "https://localhost:8080/",
          "height": 35
        }
      },
      "source": [
        "switcher = {\n",
        "        0: \"This is Case Zero\",\n",
        "        1: \"This is Case One\",\n",
        "        2: \"This is Case Two\",\n",
        "    }\n",
        "\n",
        "x = 5\n",
        "switcher.get(x, \"nothing\")"
      ],
      "execution_count": 0,
      "outputs": [
        {
          "output_type": "execute_result",
          "data": {
            "text/plain": [
              "'nothing'"
            ]
          },
          "metadata": {
            "tags": []
          },
          "execution_count": 38
        }
      ]
    },
    {
      "cell_type": "code",
      "metadata": {
        "id": "eNmDVgEJAcyD",
        "colab_type": "code",
        "outputId": "68b39b7c-958a-4520-ef02-e872a56a092f",
        "colab": {
          "base_uri": "https://localhost:8080/",
          "height": 35
        }
      },
      "source": [
        "def foo(x):\n",
        "  return 'This is case', x\n",
        "\n",
        "def bar():\n",
        "  return 'A different function'\n",
        "\n",
        "switcher = {\n",
        "        0: foo(x),\n",
        "        1: foo(x),\n",
        "        2: bar(),\n",
        "    }\n",
        "\n",
        "x = 0\n",
        "switcher.get(x, \"nothing\")"
      ],
      "execution_count": 0,
      "outputs": [
        {
          "output_type": "execute_result",
          "data": {
            "text/plain": [
              "('This is case', 0)"
            ]
          },
          "metadata": {
            "tags": []
          },
          "execution_count": 40
        }
      ]
    },
    {
      "cell_type": "code",
      "metadata": {
        "id": "zd-6QrQVBN--",
        "colab_type": "code",
        "outputId": "50447adc-101d-4eed-f9db-ba9872e3a830",
        "colab": {
          "base_uri": "https://localhost:8080/",
          "height": 72
        }
      },
      "source": [
        "# Just be careful with print statements\n",
        "def foo(x):\n",
        "  print('This is case', x)\n",
        "\n",
        "switcher = {\n",
        "        0: foo(x),\n",
        "        1: foo(x),\n",
        "        2: foo(x),\n",
        "    }\n",
        "\n",
        "x = 0\n",
        "switcher.get(x, \"nothing\")"
      ],
      "execution_count": 0,
      "outputs": [
        {
          "output_type": "stream",
          "text": [
            "This is case 0\n",
            "This is case 0\n",
            "This is case 0\n"
          ],
          "name": "stdout"
        }
      ]
    },
    {
      "cell_type": "markdown",
      "metadata": {
        "id": "Ef-LOBb1ICO0",
        "colab_type": "text"
      },
      "source": [
        "## Bitwise Operators"
      ]
    },
    {
      "cell_type": "markdown",
      "metadata": {
        "id": "Fb1gPAt5Bl38",
        "colab_type": "text"
      },
      "source": [
        "There is another set of operators that behaves in a very similar way to the logical operators (`and`, `or`, and `not`). The bitwise operators act like their counterparts except on the bits (1s and 0s) of the input expression. They have two other behavioral differences:\n",
        "1. Logical Operators short circuit, meaning they execute only until they can determine the value of the expression.\n",
        "`True or False` will stop evaluating at `True` since we don't need to know anymore to safely return `True`. Bitwise Operators evaluate the whole statement every time.\n",
        "2. Logical Operators return `True` or `False` once evaluated, bitwise will return a value based on how the truth table resolved. `0b110 | 0b000` returns `6`, not `True` (the `0b` prefix indicates a binary number)."
      ]
    },
    {
      "cell_type": "code",
      "metadata": {
        "id": "h6fahdcOEIQA",
        "colab_type": "code",
        "outputId": "8e85a6a0-2f3c-44ce-e13a-a40f56ce9ec2",
        "colab": {
          "base_uri": "https://localhost:8080/",
          "height": 35
        }
      },
      "source": [
        "# And\n",
        "0b110 & 0b000"
      ],
      "execution_count": 0,
      "outputs": [
        {
          "output_type": "execute_result",
          "data": {
            "text/plain": [
              "0"
            ]
          },
          "metadata": {
            "tags": []
          },
          "execution_count": 44
        }
      ]
    },
    {
      "cell_type": "code",
      "metadata": {
        "id": "tAcLbMT5EIVx",
        "colab_type": "code",
        "outputId": "b9ef2c39-7a07-440c-808e-24aecc3db73d",
        "colab": {
          "base_uri": "https://localhost:8080/",
          "height": 35
        }
      },
      "source": [
        "# Or\n",
        "0b110 | 0b000"
      ],
      "execution_count": 0,
      "outputs": [
        {
          "output_type": "execute_result",
          "data": {
            "text/plain": [
              "6"
            ]
          },
          "metadata": {
            "tags": []
          },
          "execution_count": 53
        }
      ]
    },
    {
      "cell_type": "code",
      "metadata": {
        "id": "uOwx-KoFEITj",
        "colab_type": "code",
        "outputId": "dd58e129-0be2-4645-fad9-da79d1a59d88",
        "colab": {
          "base_uri": "https://localhost:8080/",
          "height": 35
        }
      },
      "source": [
        "# Not\n",
        "~0b000"
      ],
      "execution_count": 0,
      "outputs": [
        {
          "output_type": "execute_result",
          "data": {
            "text/plain": [
              "-1"
            ]
          },
          "metadata": {
            "tags": []
          },
          "execution_count": 46
        }
      ]
    },
    {
      "cell_type": "code",
      "metadata": {
        "id": "l6CUhNu8EINM",
        "colab_type": "code",
        "outputId": "cd963760-2e97-4ec9-915b-3f9d0139aeac",
        "colab": {
          "base_uri": "https://localhost:8080/",
          "height": 35
        }
      },
      "source": [
        "# XOR (Exclusive Or)\n",
        "0b110 ^ 0b110"
      ],
      "execution_count": 0,
      "outputs": [
        {
          "output_type": "execute_result",
          "data": {
            "text/plain": [
              "0"
            ]
          },
          "metadata": {
            "tags": []
          },
          "execution_count": 54
        }
      ]
    },
    {
      "cell_type": "markdown",
      "metadata": {
        "id": "9TvxcJvO0VSO",
        "colab_type": "text"
      },
      "source": [
        "## Supplemental Content\n",
        "\n",
        "\n",
        "[Video Tutorial on If Statements](https://www.youtube.com/watch?v=DZwmZ8Usvnk)\n",
        "\n",
        "[Basic Operators in Python](https://www.geeksforgeeks.org/basic-operators-python/)"
      ]
    }
  ]
}